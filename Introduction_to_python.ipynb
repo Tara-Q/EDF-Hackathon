{
 "cells": [
  {
   "cell_type": "markdown",
   "id": "bec6d899",
   "metadata": {},
   "source": [
    "# Intro to Python\n",
    "# Operators"
   ]
  },
  {
   "cell_type": "markdown",
   "id": "29cd860c",
   "metadata": {},
   "source": [
    "<table class=\"tg\">\n",
    "<thead>\n",
    "  <tr>\n",
    "    <th class=\"tg-1wig\"><span style=\"font-weight:700;font-style:normal;text-decoration:none;color:#000;background-color:transparent\">Operator</span></th>\n",
    "    <th class=\"tg-1wig\"><span style=\"font-weight:700;font-style:normal;text-decoration:none;color:#000;background-color:transparent\">Name</span></th>\n",
    "  </tr>\n",
    "</thead>\n",
    "<tbody>\n",
    "  <tr>\n",
    "    <td class=\"tg-0lax\"><span style=\"font-weight:400;font-style:normal;text-decoration:none;color:#000;background-color:transparent\">+</span></td>\n",
    "    <td class=\"tg-0lax\"><span style=\"font-weight:400;font-style:normal;text-decoration:none;color:#000;background-color:transparent\">Addition</span></td>\n",
    "  </tr>\n",
    "  <tr>\n",
    "    <td class=\"tg-0lax\"><span style=\"font-weight:400;font-style:normal;text-decoration:none;color:#000;background-color:transparent\">-</span></td>\n",
    "    <td class=\"tg-0lax\"><span style=\"font-weight:400;font-style:normal;text-decoration:none;color:#000;background-color:transparent\">Subtraction</span></td>\n",
    "  </tr>\n",
    "  <tr>\n",
    "    <td class=\"tg-0lax\"><span style=\"font-weight:400;font-style:normal;text-decoration:none;color:#000;background-color:transparent\">*</span></td>\n",
    "    <td class=\"tg-0lax\"><span style=\"font-weight:400;font-style:normal;text-decoration:none;color:#000;background-color:transparent\">Multiplication</span></td>\n",
    "  </tr>\n",
    "  <tr>\n",
    "    <td class=\"tg-0lax\"><span style=\"font-weight:400;font-style:normal;text-decoration:none;color:#000;background-color:transparent\">/</span></td>\n",
    "    <td class=\"tg-0lax\"><span style=\"font-weight:400;font-style:normal;text-decoration:none;color:#000;background-color:transparent\">Division</span></td>\n",
    "  </tr>\n",
    "  <tr>\n",
    "    <td class=\"tg-0lax\"><span style=\"font-weight:400;font-style:normal;text-decoration:none;color:#000;background-color:transparent\">and</span></td>\n",
    "    <td class=\"tg-0lax\"><span style=\"font-weight:400;font-style:normal;text-decoration:none;color:#000;background-color:transparent\">Returns True if both statements are true</span></td>\n",
    "  </tr>\n",
    "  <tr>\n",
    "    <td class=\"tg-0lax\"><span style=\"font-weight:400;font-style:normal;text-decoration:none;color:#000;background-color:transparent\">or</span></td>\n",
    "    <td class=\"tg-0lax\"><span style=\"font-weight:400;font-style:normal;text-decoration:none;color:#000;background-color:transparent\">Returns True if one of the statements is true</span></td>\n",
    "  </tr>\n",
    "  <tr>\n",
    "    <td class=\"tg-0lax\"><span style=\"font-weight:400;font-style:normal;text-decoration:none;color:#000;background-color:transparent\">not</span></td>\n",
    "    <td class=\"tg-0lax\"><span style=\"font-weight:400;font-style:normal;text-decoration:none;color:#000;background-color:transparent\">Reverses the result: returns False if True</span></td>\n",
    "  </tr>\n",
    "</tbody>\n",
    "</table>"
   ]
  },
  {
   "cell_type": "code",
   "execution_count": 2,
   "id": "8fdd9f03",
   "metadata": {},
   "outputs": [
    {
     "name": "stdout",
     "output_type": "stream",
     "text": [
      "13\n",
      "7\n",
      "30\n",
      "5.0\n"
     ]
    }
   ],
   "source": [
    "print(3+10)\n",
    "print(10-3)\n",
    "print(3*10)\n",
    "print(10/2)"
   ]
  },
  {
   "cell_type": "code",
   "execution_count": 1,
   "id": "d8994b36",
   "metadata": {},
   "outputs": [
    {
     "name": "stdout",
     "output_type": "stream",
     "text": [
      "True\n",
      "True\n",
      "False\n"
     ]
    }
   ],
   "source": [
    "x=5\n",
    "print(x>3 and x<10)\n",
    "print(x>3 or x<10)\n",
    "print(not(x>3 and x<10))"
   ]
  },
  {
   "cell_type": "code",
   "execution_count": 3,
   "id": "464f1728",
   "metadata": {},
   "outputs": [
    {
     "name": "stdout",
     "output_type": "stream",
     "text": [
      "tealeaf\n",
      "BeeBeeBee\n"
     ]
    }
   ],
   "source": [
    "# Operators can be used on strings too!\n",
    "print('tea' + 'leaf')\n",
    "print('Bee' * 3) "
   ]
  },
  {
   "cell_type": "code",
   "execution_count": 4,
   "id": "cc1845fd",
   "metadata": {},
   "outputs": [
    {
     "data": {
      "text/plain": [
       "[1, 2, 3, 1, 2, 3, 1, 2, 3, 1, 2, 3, 1, 2, 3]"
      ]
     },
     "execution_count": 4,
     "metadata": {},
     "output_type": "execute_result"
    }
   ],
   "source": [
    "[1, 2, 3]*5\n"
   ]
  },
  {
   "cell_type": "code",
   "execution_count": 5,
   "id": "2a2c0c46",
   "metadata": {},
   "outputs": [
    {
     "data": {
      "text/plain": [
       "range(0, 3)"
      ]
     },
     "execution_count": 5,
     "metadata": {},
     "output_type": "execute_result"
    }
   ],
   "source": [
    "range(3)"
   ]
  },
  {
   "cell_type": "markdown",
   "id": "f9b5e9a4",
   "metadata": {},
   "source": [
    "# If… Else\n",
    "\n",
    "An 'if else' is a conditional statement that runs a different set of statements depending on whether an expression is true or false."
   ]
  },
  {
   "cell_type": "markdown",
   "id": "feed48e1",
   "metadata": {},
   "source": [
    "Equals: a == b \\\n",
    "Not Equals: a != b \\\n",
    "Less than: a < b \\\n",
    "Less than or equal to: a <= b \\\n",
    "Greater than: a > b \\\n",
    "Greater than or equal to: a >= b"
   ]
  },
  {
   "cell_type": "code",
   "execution_count": 6,
   "id": "bd17ffcb",
   "metadata": {},
   "outputs": [
    {
     "name": "stdout",
     "output_type": "stream",
     "text": [
      "b is greater than a\n"
     ]
    }
   ],
   "source": [
    "a = 33\n",
    "b = 200\n",
    "if b > a:\n",
    "    print(\"b is greater than a\")"
   ]
  },
  {
   "cell_type": "code",
   "execution_count": 9,
   "id": "3e8357e2",
   "metadata": {},
   "outputs": [],
   "source": [
    "a = 200\n",
    "b = 33\n",
    "if b > a:\n",
    "    print(\"b is greater than a\")"
   ]
  },
  {
   "cell_type": "code",
   "execution_count": 8,
   "id": "746edee1",
   "metadata": {},
   "outputs": [
    {
     "name": "stdout",
     "output_type": "stream",
     "text": [
      "b is less than or equal than a\n"
     ]
    }
   ],
   "source": [
    "a = 200\n",
    "b = 33\n",
    "if b > a:\n",
    "    print(\"b is greater than a\")\n",
    "else: \n",
    "    print(\"b is less than or equal than a\")"
   ]
  },
  {
   "cell_type": "code",
   "execution_count": 10,
   "id": "8530d067",
   "metadata": {},
   "outputs": [
    {
     "name": "stdout",
     "output_type": "stream",
     "text": [
      "b is greater than a\n"
     ]
    }
   ],
   "source": [
    "a = 33\n",
    "b = 200\n",
    "if b > a:\n",
    "    print(\"b is greater than a\")\n",
    "elif b < a:\n",
    "    print(\"a is greater than b\")\n",
    "else: \n",
    "    print(\"a is equal to b\")"
   ]
  },
  {
   "cell_type": "code",
   "execution_count": 13,
   "id": "52994d79",
   "metadata": {},
   "outputs": [
    {
     "name": "stdout",
     "output_type": "stream",
     "text": [
      "Negative number\n"
     ]
    }
   ],
   "source": [
    "num = -4.5\n",
    "\n",
    "if num > 0:\n",
    "    print(\"Positive number\")\n",
    "elif num == 0:\n",
    "    print(\"Zero\")\n",
    "else:\n",
    "    print(\"Negative number\")"
   ]
  },
  {
   "cell_type": "markdown",
   "id": "af2a7e65",
   "metadata": {},
   "source": [
    "## Exercise 1\n",
    "\n",
    "Try these two variations as well:\n",
    "num = 0\n",
    "num = -4.5"
   ]
  },
  {
   "cell_type": "markdown",
   "id": "1640977d",
   "metadata": {},
   "source": [
    "# For loop\n",
    "\n",
    "We use for loops to iterate over a sequence. For example:"
   ]
  },
  {
   "cell_type": "code",
   "execution_count": 14,
   "id": "49c2c312",
   "metadata": {},
   "outputs": [
    {
     "name": "stdout",
     "output_type": "stream",
     "text": [
      "apple\n",
      "banana\n",
      "cherry\n"
     ]
    }
   ],
   "source": [
    "fruits = [\"apple\", \"banana\", \"cherry\"]\n",
    "for fruit in fruits:\n",
    "  print(fruit) "
   ]
  },
  {
   "cell_type": "code",
   "execution_count": 15,
   "id": "6640a9a3",
   "metadata": {},
   "outputs": [
    {
     "name": "stdout",
     "output_type": "stream",
     "text": [
      "b\n",
      "a\n",
      "n\n",
      "a\n",
      "n\n",
      "a\n"
     ]
    }
   ],
   "source": [
    "# Iterate through a string\n",
    "\n",
    "for letter in \"banana\":\n",
    "  print(letter)"
   ]
  },
  {
   "cell_type": "code",
   "execution_count": 16,
   "id": "22a9767d",
   "metadata": {},
   "outputs": [
    {
     "name": "stdout",
     "output_type": "stream",
     "text": [
      "0 b\n",
      "1 a\n",
      "2 n\n",
      "3 a\n",
      "4 n\n",
      "5 a\n"
     ]
    }
   ],
   "source": [
    "# Using enumerate to loop through position and values (letters) of a string\n",
    "\n",
    "for position, letter in enumerate(\"banana\"):\n",
    "  print(position, letter)"
   ]
  },
  {
   "cell_type": "markdown",
   "id": "2c88fae1",
   "metadata": {},
   "source": [
    "## Exercise 2\n",
    "\n",
    "Print First 10 positive integers using while loop (solution at bottom of notebook)"
   ]
  },
  {
   "cell_type": "code",
   "execution_count": 19,
   "id": "9f72c943",
   "metadata": {},
   "outputs": [
    {
     "name": "stdout",
     "output_type": "stream",
     "text": [
      "1\n",
      "2\n",
      "3\n",
      "4\n",
      "5\n",
      "6\n",
      "7\n",
      "8\n",
      "9\n",
      "10\n"
     ]
    }
   ],
   "source": [
    "# write your solution in this cell\n",
    "for i in range(10):\n",
    "    print (i+1)\n"
   ]
  },
  {
   "cell_type": "markdown",
   "id": "be14866a",
   "metadata": {},
   "source": [
    "# List\n",
    "\n",
    "A list is an abstract data type that represents a finite number of ordered values, where the same value may occur more than once.\n",
    "Access to individual element, the index start from 0"
   ]
  },
  {
   "cell_type": "code",
   "execution_count": 21,
   "id": "fc6a0af6",
   "metadata": {},
   "outputs": [
    {
     "name": "stdout",
     "output_type": "stream",
     "text": [
      "a\n",
      "e\n",
      "d\n",
      "True\n"
     ]
    }
   ],
   "source": [
    "my_list = ['a','b','c','b','d','e']\n",
    "print(my_list[0]) # returns 'a'\n",
    "print(my_list[5]) # returns 'e'\n",
    "print(my_list[-2]) # returns 'd'\n",
    "print(my_list[5] == my_list[-1]) # returns True"
   ]
  },
  {
   "cell_type": "code",
   "execution_count": 22,
   "id": "c0b4f051",
   "metadata": {},
   "outputs": [
    {
     "name": "stdout",
     "output_type": "stream",
     "text": [
      "True\n"
     ]
    }
   ],
   "source": [
    "# Check if an element exist in the list\n",
    "\n",
    "print('b' in my_list)"
   ]
  },
  {
   "cell_type": "code",
   "execution_count": 23,
   "id": "44e72482",
   "metadata": {},
   "outputs": [
    {
     "data": {
      "text/plain": [
       "['a', 'c', 'b', 'd', 'e']"
      ]
     },
     "execution_count": 23,
     "metadata": {},
     "output_type": "execute_result"
    }
   ],
   "source": [
    "# Remove an element in the list\n",
    "\n",
    "my_list.remove('b') # It will remove just the first b\n",
    "my_list"
   ]
  },
  {
   "cell_type": "code",
   "execution_count": 24,
   "id": "d9dad641",
   "metadata": {},
   "outputs": [
    {
     "data": {
      "text/plain": [
       "'e'"
      ]
     },
     "execution_count": 24,
     "metadata": {},
     "output_type": "execute_result"
    }
   ],
   "source": [
    "my_list.pop()"
   ]
  },
  {
   "cell_type": "code",
   "execution_count": 25,
   "id": "1abcac53",
   "metadata": {},
   "outputs": [
    {
     "data": {
      "text/plain": [
       "['a', 'c', 'b', 'd']"
      ]
     },
     "execution_count": 25,
     "metadata": {},
     "output_type": "execute_result"
    }
   ],
   "source": [
    "my_list"
   ]
  },
  {
   "cell_type": "code",
   "execution_count": 26,
   "id": "dcfab281",
   "metadata": {},
   "outputs": [
    {
     "data": {
      "text/plain": [
       "['a', 'c', 'b', 'd', 'g']"
      ]
     },
     "execution_count": 26,
     "metadata": {},
     "output_type": "execute_result"
    }
   ],
   "source": [
    "# Adding a element at the end of the list\n",
    "\n",
    "my_list.append('g')\n",
    "my_list"
   ]
  },
  {
   "cell_type": "code",
   "execution_count": 27,
   "id": "27e1cc3a",
   "metadata": {},
   "outputs": [
    {
     "data": {
      "text/plain": [
       "['a', 'c', 'b', 'd', 'g', 'i', 'j']"
      ]
     },
     "execution_count": 27,
     "metadata": {},
     "output_type": "execute_result"
    }
   ],
   "source": [
    "# Adding a list at the end of the list\n",
    "\n",
    "another_list = ['i','j']\n",
    "my_list.extend(another_list)\n",
    "my_list"
   ]
  },
  {
   "cell_type": "code",
   "execution_count": 28,
   "id": "a71e8da9",
   "metadata": {},
   "outputs": [
    {
     "data": {
      "text/plain": [
       "[1, 2, 3]"
      ]
     },
     "execution_count": 28,
     "metadata": {},
     "output_type": "execute_result"
    }
   ],
   "source": [
    "# Addition\n",
    "\n",
    "x,y = [1], [2,3]\n",
    "x+y"
   ]
  },
  {
   "cell_type": "code",
   "execution_count": 29,
   "id": "4f4dda1f",
   "metadata": {},
   "outputs": [
    {
     "data": {
      "text/plain": [
       "[1, 1, 1, 1, 1, 1, 1, 1, 1, 1]"
      ]
     },
     "execution_count": 29,
     "metadata": {},
     "output_type": "execute_result"
    }
   ],
   "source": [
    "# Multiplication\n",
    "\n",
    "x*10 "
   ]
  },
  {
   "cell_type": "code",
   "execution_count": 30,
   "id": "532dc7fb",
   "metadata": {},
   "outputs": [
    {
     "data": {
      "text/plain": [
       "[1]"
      ]
     },
     "execution_count": 30,
     "metadata": {},
     "output_type": "execute_result"
    }
   ],
   "source": [
    "x"
   ]
  },
  {
   "cell_type": "code",
   "execution_count": 31,
   "id": "27e3244e",
   "metadata": {},
   "outputs": [
    {
     "name": "stdout",
     "output_type": "stream",
     "text": [
      "2\n"
     ]
    }
   ],
   "source": [
    "# Loop through a list\n",
    "\n",
    "for offset, element in enumerate(my_list):\n",
    "    if element =='b':\n",
    "        print(offset)\n",
    "        break"
   ]
  },
  {
   "cell_type": "markdown",
   "id": "4664cce4",
   "metadata": {},
   "source": [
    "## Exercise 3\n",
    "\n",
    "Using a loop modify the list my_list = [] into my_list = [0, 2, 4, 6, 8] (solution at bottom of notebook)"
   ]
  },
  {
   "cell_type": "code",
   "execution_count": 35,
   "id": "8c67ccb2",
   "metadata": {},
   "outputs": [
    {
     "name": "stdout",
     "output_type": "stream",
     "text": [
      "[0, 2, 4, 6, 8]\n"
     ]
    }
   ],
   "source": [
    "# write your solution in this cell\n",
    "my_list = []\n",
    "for i in range(5):\n",
    "    my_list.append(i*2)\n",
    "    \n",
    "print (my_list)"
   ]
  },
  {
   "cell_type": "code",
   "execution_count": 38,
   "id": "2801fbdc",
   "metadata": {},
   "outputs": [
    {
     "name": "stdout",
     "output_type": "stream",
     "text": [
      "[0, 2, 4, 6, 8]\n"
     ]
    }
   ],
   "source": [
    "my_list=[i*2 for i in range(5)]\n",
    "print (my_list)"
   ]
  },
  {
   "cell_type": "markdown",
   "id": "7dd14e8b",
   "metadata": {},
   "source": [
    "# Slicing\n",
    "\n",
    "Selecting multiple values across several indexes: var[ from_index : to_index ]\n",
    "- var[from_index:] means from_index all the way to the end of the data structure\n",
    "- var[:to_index] means from 0 up to to_index\n"
   ]
  },
  {
   "cell_type": "code",
   "execution_count": null,
   "id": "c1fbd463",
   "metadata": {},
   "outputs": [],
   "source": []
  },
  {
   "cell_type": "code",
   "execution_count": 39,
   "id": "f59a3e5b",
   "metadata": {},
   "outputs": [
    {
     "data": {
      "text/plain": [
       "'be'"
      ]
     },
     "execution_count": 39,
     "metadata": {},
     "output_type": "execute_result"
    }
   ],
   "source": [
    "quote = \"be the change you wish to see in the world!\"\n",
    "quote[0:2]"
   ]
  },
  {
   "cell_type": "code",
   "execution_count": 40,
   "id": "11aa5c4d",
   "metadata": {},
   "outputs": [
    {
     "data": {
      "text/plain": [
       "' the change you wish to see in the world!'"
      ]
     },
     "execution_count": 40,
     "metadata": {},
     "output_type": "execute_result"
    }
   ],
   "source": [
    "quote[2:]"
   ]
  },
  {
   "cell_type": "code",
   "execution_count": 41,
   "id": "3847a12f",
   "metadata": {},
   "outputs": [
    {
     "data": {
      "text/plain": [
       "'be the change you wish to see in the '"
      ]
     },
     "execution_count": 41,
     "metadata": {},
     "output_type": "execute_result"
    }
   ],
   "source": [
    "quote[0:-6]"
   ]
  },
  {
   "cell_type": "code",
   "execution_count": 42,
   "id": "176298e0",
   "metadata": {},
   "outputs": [
    {
     "data": {
      "text/plain": [
       "'be the change you wish to see in the '"
      ]
     },
     "execution_count": 42,
     "metadata": {},
     "output_type": "execute_result"
    }
   ],
   "source": [
    "quote[:-6]"
   ]
  },
  {
   "cell_type": "code",
   "execution_count": 43,
   "id": "2c1a351f",
   "metadata": {},
   "outputs": [
    {
     "data": {
      "text/plain": [
       "'be the change you wish to see in the bedroom'"
      ]
     },
     "execution_count": 43,
     "metadata": {},
     "output_type": "execute_result"
    }
   ],
   "source": [
    "quote[:-6] + 'bedroom'"
   ]
  },
  {
   "cell_type": "markdown",
   "id": "07db1c99",
   "metadata": {},
   "source": [
    "## Exercise 4\n",
    "\n",
    "Reverse a list in Python\\\n",
    "Given:\\\n",
    "list1 = [100, 200, 300, 400, 500]\\\n",
    "Expected output:\\\n",
    "list1 = [500, 400, 300, 200, 100]\n",
    "\n",
    "(solution at bottom of notebook)\n"
   ]
  },
  {
   "cell_type": "code",
   "execution_count": 50,
   "id": "2f8d8b1a",
   "metadata": {},
   "outputs": [
    {
     "name": "stdout",
     "output_type": "stream",
     "text": [
      "[500, 400, 300, 200, 100]\n"
     ]
    }
   ],
   "source": [
    "list1 = [100, 200, 300, 400, 500]\n",
    "list1.reverse()\n",
    "print (list1)"
   ]
  },
  {
   "cell_type": "code",
   "execution_count": 48,
   "id": "0bebfb12",
   "metadata": {},
   "outputs": [
    {
     "name": "stdout",
     "output_type": "stream",
     "text": [
      "None\n"
     ]
    }
   ],
   "source": []
  },
  {
   "cell_type": "markdown",
   "id": "e177f5b2",
   "metadata": {},
   "source": [
    "# Tuples\n",
    "\n",
    "Tuple is an immutable (unchangeable) collection of elements of different data types. It is an ordered collection, so it preserves the order of elements in which they were defined."
   ]
  },
  {
   "cell_type": "code",
   "execution_count": 51,
   "id": "021b7dbc",
   "metadata": {},
   "outputs": [
    {
     "name": "stdout",
     "output_type": "stream",
     "text": [
      "Jeff\n"
     ]
    }
   ],
   "source": [
    "names = ('Jeff', 'Bill', 'Steve', 'Yash')\n",
    "print(names[0])"
   ]
  },
  {
   "cell_type": "code",
   "execution_count": 52,
   "id": "8438e920",
   "metadata": {},
   "outputs": [
    {
     "name": "stdout",
     "output_type": "stream",
     "text": [
      "Jeff\n"
     ]
    }
   ],
   "source": [
    "print(names[-4])"
   ]
  },
  {
   "cell_type": "markdown",
   "id": "21f4aeb3",
   "metadata": {},
   "source": [
    "Update or Delete Tuple elements: Tuple is unchangeable. So, once a tuple is created, any operation that seeks to change its contents is not allowed. For instance, trying to modify or delete an element of names tuple will result in an error."
   ]
  },
  {
   "cell_type": "code",
   "execution_count": 53,
   "id": "750a165f",
   "metadata": {},
   "outputs": [
    {
     "ename": "TypeError",
     "evalue": "'tuple' object does not support item assignment",
     "output_type": "error",
     "traceback": [
      "\u001b[0;31m---------------------------------------------------------------------------\u001b[0m",
      "\u001b[0;31mTypeError\u001b[0m                                 Traceback (most recent call last)",
      "Input \u001b[0;32mIn [53]\u001b[0m, in \u001b[0;36m<module>\u001b[0;34m\u001b[0m\n\u001b[0;32m----> 1\u001b[0m names[\u001b[38;5;241m0\u001b[39m] \u001b[38;5;241m=\u001b[39m \u001b[38;5;124m'\u001b[39m\u001b[38;5;124mSwati\u001b[39m\u001b[38;5;124m'\u001b[39m\n",
      "\u001b[0;31mTypeError\u001b[0m: 'tuple' object does not support item assignment"
     ]
    }
   ],
   "source": [
    "names[0] = 'Swati'"
   ]
  },
  {
   "cell_type": "code",
   "execution_count": 54,
   "id": "9af26e9c",
   "metadata": {},
   "outputs": [
    {
     "ename": "TypeError",
     "evalue": "'tuple' object doesn't support item deletion",
     "output_type": "error",
     "traceback": [
      "\u001b[0;31m---------------------------------------------------------------------------\u001b[0m",
      "\u001b[0;31mTypeError\u001b[0m                                 Traceback (most recent call last)",
      "Input \u001b[0;32mIn [54]\u001b[0m, in \u001b[0;36m<module>\u001b[0;34m\u001b[0m\n\u001b[0;32m----> 1\u001b[0m \u001b[38;5;28;01mdel\u001b[39;00m names[\u001b[38;5;241m0\u001b[39m]\n",
      "\u001b[0;31mTypeError\u001b[0m: 'tuple' object doesn't support item deletion"
     ]
    }
   ],
   "source": [
    "del names[0]"
   ]
  },
  {
   "cell_type": "code",
   "execution_count": 55,
   "id": "476608b9",
   "metadata": {},
   "outputs": [
    {
     "data": {
      "text/plain": [
       "('Jeff', 'Bill', 'Steve', 'Yash')"
      ]
     },
     "execution_count": 55,
     "metadata": {},
     "output_type": "execute_result"
    }
   ],
   "source": [
    "names"
   ]
  },
  {
   "cell_type": "code",
   "execution_count": 56,
   "id": "03281917",
   "metadata": {},
   "outputs": [],
   "source": [
    "# You can delete an entire tuple using the del keyword.\n",
    "\n",
    "del names"
   ]
  },
  {
   "cell_type": "code",
   "execution_count": 57,
   "id": "68d11c95",
   "metadata": {},
   "outputs": [
    {
     "ename": "NameError",
     "evalue": "name 'names' is not defined",
     "output_type": "error",
     "traceback": [
      "\u001b[0;31m---------------------------------------------------------------------------\u001b[0m",
      "\u001b[0;31mNameError\u001b[0m                                 Traceback (most recent call last)",
      "Input \u001b[0;32mIn [57]\u001b[0m, in \u001b[0;36m<module>\u001b[0;34m\u001b[0m\n\u001b[0;32m----> 1\u001b[0m \u001b[43mnames\u001b[49m\n",
      "\u001b[0;31mNameError\u001b[0m: name 'names' is not defined"
     ]
    }
   ],
   "source": [
    "names"
   ]
  },
  {
   "cell_type": "markdown",
   "id": "76b6b040",
   "metadata": {},
   "source": [
    "# Sets\n",
    "\n",
    "A set is a mutable collection of distinct (unique) hashable objects. It is an unordered collection of objects, meaning it does not record element position or order of insertion and so cannot access elements using indexes."
   ]
  },
  {
   "cell_type": "code",
   "execution_count": 58,
   "id": "f443e3df",
   "metadata": {},
   "outputs": [
    {
     "data": {
      "text/plain": [
       "{2, 4, 6, 8, 10, 12}"
      ]
     },
     "execution_count": 58,
     "metadata": {},
     "output_type": "execute_result"
    }
   ],
   "source": [
    "even_nums = {2, 4, 6, 8, 10} # set of even numbers\n",
    "even_nums.add(12)\n",
    "even_nums"
   ]
  },
  {
   "cell_type": "code",
   "execution_count": 59,
   "id": "411c62e3",
   "metadata": {},
   "outputs": [
    {
     "data": {
      "text/plain": [
       "True"
      ]
     },
     "execution_count": 59,
     "metadata": {},
     "output_type": "execute_result"
    }
   ],
   "source": [
    "8 in even_nums"
   ]
  },
  {
   "cell_type": "code",
   "execution_count": 60,
   "id": "daf9dd8a",
   "metadata": {},
   "outputs": [
    {
     "data": {
      "text/plain": [
       "{2, 4, 6}"
      ]
     },
     "execution_count": 60,
     "metadata": {},
     "output_type": "execute_result"
    }
   ],
   "source": [
    "{2, 4, 6} & even_nums"
   ]
  },
  {
   "cell_type": "code",
   "execution_count": 61,
   "id": "6480130e",
   "metadata": {},
   "outputs": [],
   "source": [
    "emp = {1, 'Steve', 10.5, True}"
   ]
  },
  {
   "cell_type": "code",
   "execution_count": 62,
   "id": "ba7b0a99",
   "metadata": {},
   "outputs": [
    {
     "data": {
      "text/plain": [
       "{1, 10.5, 'Steve'}"
      ]
     },
     "execution_count": 62,
     "metadata": {},
     "output_type": "execute_result"
    }
   ],
   "source": [
    "emp"
   ]
  },
  {
   "cell_type": "markdown",
   "id": "d91f7594",
   "metadata": {},
   "source": [
    "# Dictionaries\n",
    "\n",
    "A dictionary is an unordered and mutable Python container that stores mappings of unique keys to values. Dictionaries are written with curly brackets ({}), including key-value pairs separated by commas (,). A colon (:) separates each key from its value."
   ]
  },
  {
   "cell_type": "code",
   "execution_count": 63,
   "id": "3b61305d",
   "metadata": {},
   "outputs": [
    {
     "data": {
      "text/plain": [
       "'goodbye'"
      ]
     },
     "execution_count": 63,
     "metadata": {},
     "output_type": "execute_result"
    }
   ],
   "source": [
    "translation = {'hello': 'goodbye'}\n",
    "translation['hello']"
   ]
  },
  {
   "cell_type": "code",
   "execution_count": 64,
   "id": "b6d3e7c6",
   "metadata": {},
   "outputs": [
    {
     "data": {
      "text/plain": [
       "{'hello': 'goodbye', 'table': 'mesa'}"
      ]
     },
     "execution_count": 64,
     "metadata": {},
     "output_type": "execute_result"
    }
   ],
   "source": [
    "# Adding a key key,value to the list\n",
    "\n",
    "translation['table'] = 'mesa'\n",
    "translation"
   ]
  },
  {
   "cell_type": "code",
   "execution_count": 65,
   "id": "2ae53541",
   "metadata": {},
   "outputs": [
    {
     "data": {
      "text/plain": [
       "{'hello': 'hola', 'table': 'mesa'}"
      ]
     },
     "execution_count": 65,
     "metadata": {},
     "output_type": "execute_result"
    }
   ],
   "source": [
    "# Changing a key key,value to the list\n",
    "\n",
    "translation['hello'] = 'hola'\n",
    "translation"
   ]
  },
  {
   "cell_type": "code",
   "execution_count": 66,
   "id": "0d3c0f84",
   "metadata": {},
   "outputs": [
    {
     "data": {
      "text/plain": [
       "{'hello': 'ciao', 'table': 'mesa', 'windows': 'ventana'}"
      ]
     },
     "execution_count": 66,
     "metadata": {},
     "output_type": "execute_result"
    }
   ],
   "source": [
    "translation.update({'hello': 'ciao', 'windows': 'ventana'})\n",
    "translation"
   ]
  },
  {
   "cell_type": "code",
   "execution_count": 67,
   "id": "eb1a1e86",
   "metadata": {},
   "outputs": [
    {
     "data": {
      "text/plain": [
       "'ventana'"
      ]
     },
     "execution_count": 67,
     "metadata": {},
     "output_type": "execute_result"
    }
   ],
   "source": [
    "# Removing an element\n",
    "\n",
    "translation.pop('windows')"
   ]
  },
  {
   "cell_type": "code",
   "execution_count": 68,
   "id": "296014c0",
   "metadata": {},
   "outputs": [
    {
     "data": {
      "text/plain": [
       "{'hello': 'ciao', 'table': 'mesa'}"
      ]
     },
     "execution_count": 68,
     "metadata": {},
     "output_type": "execute_result"
    }
   ],
   "source": [
    "translation"
   ]
  },
  {
   "cell_type": "code",
   "execution_count": 69,
   "id": "7a03696e",
   "metadata": {},
   "outputs": [
    {
     "name": "stdout",
     "output_type": "stream",
     "text": [
      "hello --> ciao\n",
      "table --> mesa\n"
     ]
    }
   ],
   "source": [
    "# Loop through the dictionary\n",
    "\n",
    "for key, value in translation.items():\n",
    "    print(key, '-->', value)"
   ]
  },
  {
   "cell_type": "code",
   "execution_count": 71,
   "id": "6ab7c1bb",
   "metadata": {},
   "outputs": [],
   "source": [
    "# Dictionary can contains lists\n",
    "\n",
    "likes = {\n",
    "    'michael' : ['annie hall', 'manhattan'],\n",
    "    'tina' : ['alien', 'aliens']}"
   ]
  },
  {
   "cell_type": "markdown",
   "id": "41aeae02",
   "metadata": {},
   "source": [
    "## Exercise 5\n",
    "\n",
    "Add to the list likes above: the key \"robert\" with the likes list: junior, kid, child \n",
    "(solution at bottom of notebook)"
   ]
  },
  {
   "cell_type": "code",
   "execution_count": 77,
   "id": "344008e6",
   "metadata": {},
   "outputs": [],
   "source": [
    "# write your solution in this cell\n",
    "likes.update({'robert': [' junior', 'kid', 'child']})"
   ]
  },
  {
   "cell_type": "code",
   "execution_count": 78,
   "id": "d577db61",
   "metadata": {},
   "outputs": [
    {
     "data": {
      "text/plain": [
       "{'michael': ['annie hall', 'manhattan'],\n",
       " 'tina': ['alien', 'aliens'],\n",
       " 'robert': [' junior', 'kid', 'child']}"
      ]
     },
     "execution_count": 78,
     "metadata": {},
     "output_type": "execute_result"
    }
   ],
   "source": [
    "likes"
   ]
  },
  {
   "cell_type": "markdown",
   "id": "0d5796ab",
   "metadata": {},
   "source": [
    "## Exercise 6\n",
    "Convert two lists into a dictionary\n",
    "\n",
    "Below are the two lists. Write a Python program to convert them into a dictionary in a way that item from list1 is the key and item from list2 is the value\n",
    "\n",
    "keys = ['Ten', 'Twenty', 'Thirty']\n",
    "values = [10, 20, 30]\n",
    "\n",
    "Expected output:\n",
    "\n",
    "{'Ten': 10, 'Twenty': 20, 'Thirty': 30}\n",
    "\n",
    "(solution at bottom of notebook)"
   ]
  },
  {
   "cell_type": "code",
   "execution_count": null,
   "id": "33662f3a",
   "metadata": {},
   "outputs": [],
   "source": []
  },
  {
   "cell_type": "code",
   "execution_count": 79,
   "id": "5e22439c",
   "metadata": {},
   "outputs": [],
   "source": [
    "keys = ['Ten', 'Twenty', 'Thirty']\n",
    "values = [10, 20, 30]"
   ]
  },
  {
   "cell_type": "code",
   "execution_count": 85,
   "id": "44636bf5",
   "metadata": {},
   "outputs": [
    {
     "name": "stdout",
     "output_type": "stream",
     "text": [
      "{'Ten': 10, 'Twenty': 20, 'Thirty': 30}\n"
     ]
    }
   ],
   "source": [
    "\n",
    "new_dict = {}\n",
    "\n",
    "for i in range(len(keys)):\n",
    "    new_dict.update({keys[i]: values[i]})\n",
    "print(new_dict)\n"
   ]
  },
  {
   "cell_type": "markdown",
   "id": "af918fdf",
   "metadata": {},
   "source": [
    "# Functions: syntax\n",
    "\n",
    "- Functions are pieces of code that take input(s), manipulate it and return an output\n",
    "- def keyword defines a function in Python\n",
    "- return keyword defines return value and exits the function\n",
    "- A function doesn’t have to return anything but usually useful to return\n"
   ]
  },
  {
   "cell_type": "code",
   "execution_count": 86,
   "id": "ee6af431",
   "metadata": {},
   "outputs": [],
   "source": [
    "def sum_two_numbers(a=2,b=3):\n",
    "    '''\n",
    "    This function takes two numbers and returns their sum\n",
    "    '''\n",
    "    return a + b"
   ]
  },
  {
   "cell_type": "code",
   "execution_count": 89,
   "id": "e189490e",
   "metadata": {},
   "outputs": [
    {
     "data": {
      "text/plain": [
       "5"
      ]
     },
     "execution_count": 89,
     "metadata": {},
     "output_type": "execute_result"
    }
   ],
   "source": [
    "sum_two_numbers(2,3)\n"
   ]
  },
  {
   "cell_type": "code",
   "execution_count": 90,
   "id": "a45225d8",
   "metadata": {},
   "outputs": [
    {
     "data": {
      "text/plain": [
       "13"
      ]
     },
     "execution_count": 90,
     "metadata": {},
     "output_type": "execute_result"
    }
   ],
   "source": [
    "sum_two_numbers(6,7)"
   ]
  },
  {
   "cell_type": "markdown",
   "id": "c0caa404",
   "metadata": {},
   "source": [
    "- An argument is an input (a piece of data) passed in to a function (can be anything you want, even another function)\n",
    "- Argument types\n",
    "    - Positional args (*args)\n",
    "        - Compulsory, no default values\n",
    "    - Keyword args (**kwargs)\n",
    "        - These have default values and are optional when calling the function"
   ]
  },
  {
   "cell_type": "code",
   "execution_count": 93,
   "id": "bc5a295a",
   "metadata": {},
   "outputs": [
    {
     "data": {
      "text/plain": [
       "tuple"
      ]
     },
     "execution_count": 93,
     "metadata": {},
     "output_type": "execute_result"
    }
   ],
   "source": [
    "def print_arguments(*arguments):\n",
    "    return arguments\n",
    "type(print_arguments(1,2,3))"
   ]
  },
  {
   "cell_type": "code",
   "execution_count": 94,
   "id": "a8face7e",
   "metadata": {},
   "outputs": [
    {
     "name": "stdout",
     "output_type": "stream",
     "text": [
      "(1, 2, 3)\n",
      "{'a': 'first_kwarg', 'b': 'second_kwarg'}\n"
     ]
    }
   ],
   "source": [
    "def print_arguments(*arguments, **keyword_arguments):\n",
    "    print(arguments)\n",
    "    print(keyword_arguments)\n",
    "print_arguments(1,2,3,a=\"first_kwarg\",b=\"second_kwarg\")"
   ]
  },
  {
   "cell_type": "markdown",
   "id": "16714f58",
   "metadata": {},
   "source": [
    "## Exercise 7\n",
    "\n",
    "Write a function which prints its arguments doubled (double_args)\n",
    "Eg double_args(1,2,3,4) should print 2, 4, 6, 8\n",
    "(solution at bottom of notebook)\n"
   ]
  },
  {
   "cell_type": "code",
   "execution_count": 99,
   "id": "7474807c",
   "metadata": {},
   "outputs": [],
   "source": [
    "def double_args(*args):\n",
    "    \"\"\"\n",
    "    This function prints its arguments multiplied by 2\n",
    "    \"\"\"\n",
    "    for arg in args:\n",
    "        print(arg*2)\n"
   ]
  },
  {
   "cell_type": "code",
   "execution_count": 100,
   "id": "7ff6410a",
   "metadata": {},
   "outputs": [
    {
     "name": "stdout",
     "output_type": "stream",
     "text": [
      "2\n",
      "4\n",
      "6\n"
     ]
    }
   ],
   "source": [
    "double_args(1, 2, 3)"
   ]
  },
  {
   "cell_type": "markdown",
   "id": "1e2a3643",
   "metadata": {},
   "source": [
    "# Functions: scope\n",
    "\n",
    "- Functions are locally scoped: whatever is defined in the function is defined only within the function\n",
    "- You can access objects defined outside the function from inside the function, but not the other way around\n"
   ]
  },
  {
   "cell_type": "code",
   "execution_count": 101,
   "id": "012bfb20",
   "metadata": {},
   "outputs": [
    {
     "name": "stdout",
     "output_type": "stream",
     "text": [
      "7\n",
      "a\n"
     ]
    }
   ],
   "source": [
    "letter = 'a'\n",
    "def create_number():\n",
    "    number = 7\n",
    "    print(number)\n",
    "    print(letter)\n",
    "create_number() "
   ]
  },
  {
   "cell_type": "code",
   "execution_count": 102,
   "id": "acad146e",
   "metadata": {},
   "outputs": [
    {
     "ename": "NameError",
     "evalue": "name 'number' is not defined",
     "output_type": "error",
     "traceback": [
      "\u001b[0;31m---------------------------------------------------------------------------\u001b[0m",
      "\u001b[0;31mNameError\u001b[0m                                 Traceback (most recent call last)",
      "Input \u001b[0;32mIn [102]\u001b[0m, in \u001b[0;36m<module>\u001b[0;34m\u001b[0m\n\u001b[0;32m----> 1\u001b[0m \u001b[38;5;28mprint\u001b[39m(\u001b[43mnumber\u001b[49m)\n",
      "\u001b[0;31mNameError\u001b[0m: name 'number' is not defined"
     ]
    }
   ],
   "source": [
    "print(number)"
   ]
  },
  {
   "cell_type": "markdown",
   "id": "32eddb11",
   "metadata": {},
   "source": [
    "# Functions: built-in functions and some methods\n",
    "\n",
    "- Python3 Built-in (ready-to-use) functions listed in alphabetical order https://docs.python.org/3/library/functions.html \n",
    "- Some useful ones: print, type, len, min, max, range, enumerate\n"
   ]
  },
  {
   "cell_type": "code",
   "execution_count": 103,
   "id": "26d73ba4",
   "metadata": {},
   "outputs": [
    {
     "data": {
      "text/plain": [
       "4"
      ]
     },
     "execution_count": 103,
     "metadata": {},
     "output_type": "execute_result"
    }
   ],
   "source": [
    "len([\"a\",\"b\",\"c\",\"d\"])"
   ]
  },
  {
   "cell_type": "code",
   "execution_count": 104,
   "id": "c416fc0b",
   "metadata": {},
   "outputs": [
    {
     "data": {
      "text/plain": [
       "int"
      ]
     },
     "execution_count": 104,
     "metadata": {},
     "output_type": "execute_result"
    }
   ],
   "source": [
    "type(2)"
   ]
  },
  {
   "cell_type": "code",
   "execution_count": 105,
   "id": "ff6f7d39",
   "metadata": {},
   "outputs": [
    {
     "data": {
      "text/plain": [
       "3"
      ]
     },
     "execution_count": 105,
     "metadata": {},
     "output_type": "execute_result"
    }
   ],
   "source": [
    "max([1,2,3])"
   ]
  },
  {
   "cell_type": "markdown",
   "id": "64d189d8",
   "metadata": {},
   "source": [
    "- Python built-in datatypes also have useful methods:\n",
    "    - list.append() adds to the end of the list\n",
    "    - str.split() splits string into pieces based on a separator (default = whitespace) and returns a list of the pieces\n",
    "    - Etc - learn as you go\n"
   ]
  },
  {
   "cell_type": "code",
   "execution_count": 106,
   "id": "15ce4a9c",
   "metadata": {},
   "outputs": [
    {
     "data": {
      "text/plain": [
       "['my', 'string']"
      ]
     },
     "execution_count": 106,
     "metadata": {},
     "output_type": "execute_result"
    }
   ],
   "source": [
    "\"my string\".split()\n"
   ]
  },
  {
   "cell_type": "markdown",
   "id": "53446c0f",
   "metadata": {},
   "source": [
    "## Exercise 8\n",
    "\n",
    "Write a function that removes all non-integer values from a list (clean_list)\n",
    "- Takes in [1, 2, 3, 2.5, ”hello”, 4, “there”]\n",
    "- Returns [1, 2, 3, 4]\n",
    "\n",
    "(solution at bottom of notebook)"
   ]
  },
  {
   "cell_type": "code",
   "execution_count": 112,
   "id": "4e4b8701",
   "metadata": {},
   "outputs": [],
   "source": [
    "my_list=[1, 2, 3, 2.5, 'hello', 4, 'there']"
   ]
  },
  {
   "cell_type": "code",
   "execution_count": 113,
   "id": "16be65cd",
   "metadata": {},
   "outputs": [],
   "source": [
    "def clean_list(my_list):\n",
    "    my_clean_list = []\n",
    "    \n",
    "    for i in my_list:\n",
    "        if type(i) == int:\n",
    "            my_clean_list.append(i)\n",
    "    \n",
    "    return my_clean_list\n",
    "    \n"
   ]
  },
  {
   "cell_type": "code",
   "execution_count": 114,
   "id": "07471afc",
   "metadata": {},
   "outputs": [
    {
     "data": {
      "text/plain": [
       "[1, 2, 3, 4]"
      ]
     },
     "execution_count": 114,
     "metadata": {},
     "output_type": "execute_result"
    }
   ],
   "source": [
    "clean_list(my_list)"
   ]
  },
  {
   "cell_type": "code",
   "execution_count": null,
   "id": "f8b3d306",
   "metadata": {},
   "outputs": [],
   "source": []
  },
  {
   "cell_type": "markdown",
   "id": "a021922e",
   "metadata": {},
   "source": [
    "## Exercise 9\n",
    "\n",
    "Write a function that takes in a dictionary of named lists and returns it with None’s removed from each list (clean_dict)\n",
    "- Takes in {'list1': [1,2,None,4,5,6,None,8], 'list2':['a',None,'c','d',None,'f','g',None]}\n",
    "- Returns {'list1': [1,2,4,5,6,8], 'list2':['a','c','d','f','g']}\n",
    "\n",
    "(solution at bottom of notebook)\n"
   ]
  },
  {
   "cell_type": "code",
   "execution_count": 115,
   "id": "9ae7c036",
   "metadata": {},
   "outputs": [
    {
     "data": {
      "text/plain": [
       "True"
      ]
     },
     "execution_count": 115,
     "metadata": {},
     "output_type": "execute_result"
    }
   ],
   "source": [
    "None == None"
   ]
  },
  {
   "cell_type": "code",
   "execution_count": 117,
   "id": "5dcc2fd8",
   "metadata": {},
   "outputs": [],
   "source": [
    "list1 = [1,2,None,4,5,6,None,8]\n",
    "list2 = ['a',None,'c','d',None,'f','g',None]\n",
    "\n",
    "my_dict1 = {'list1': list1, 'list2': list2}"
   ]
  },
  {
   "cell_type": "code",
   "execution_count": 123,
   "id": "6cb9a2d3",
   "metadata": {},
   "outputs": [],
   "source": [
    "def clean_dict(input_dict):\n",
    "    output_dict = {}\n",
    "    for key, input_list in input_dict.items():\n",
    "        output_list = []\n",
    "        for i in input_list:\n",
    "            if i != None:\n",
    "                output_list.append(i)\n",
    "        output_dict[key] = output_list\n",
    "                \n",
    "    return output_dict\n"
   ]
  },
  {
   "cell_type": "code",
   "execution_count": 124,
   "id": "6331a556",
   "metadata": {},
   "outputs": [
    {
     "data": {
      "text/plain": [
       "{'list1': [1, 2, 4, 5, 6, 8], 'list2': ['a', 'c', 'd', 'f', 'g']}"
      ]
     },
     "execution_count": 124,
     "metadata": {},
     "output_type": "execute_result"
    }
   ],
   "source": [
    "clean_dict(my_dict1)"
   ]
  },
  {
   "cell_type": "markdown",
   "id": "ccc32092",
   "metadata": {},
   "source": [
    "# Modules: importing from a module"
   ]
  },
  {
   "cell_type": "code",
   "execution_count": 125,
   "id": "f863e0aa",
   "metadata": {},
   "outputs": [],
   "source": [
    "import numpy as np\n",
    "my_array = np.array([1,2,3])"
   ]
  },
  {
   "cell_type": "code",
   "execution_count": 126,
   "id": "579dc284",
   "metadata": {},
   "outputs": [],
   "source": [
    "from datetime import date\n",
    "my_date = date(2019, 4, 13)"
   ]
  },
  {
   "cell_type": "markdown",
   "id": "9f94d30e",
   "metadata": {},
   "source": [
    "# EXTRA. Modules: exercise 10\n",
    "\n",
    "- Put the functions clean_list and clean_dict you created in the previous exercise into a single module, \n",
    "- Import them into a new file\n",
    "- Use them in the new file to clean the below list and dictionary\n",
    "- [1, 2, 3, 2.5, ”hello”, 4, “there”]\n",
    "- {'list1': [1,2,None,4,5,6,None,8], 'list2':['a',None,'c','d',None,'f','g',None]}"
   ]
  },
  {
   "cell_type": "markdown",
   "id": "3419cc76",
   "metadata": {},
   "source": [
    "# EXTRA. A brief word on software testing\n",
    "\n",
    "- We want to ensure the behaviour of our code matches what we expect\n",
    "- Writing tests helps with this\n",
    "    - Unit tests refer to tests that check the behaviour of individual components of the application, eg individual functions\n",
    "    - Integration tests refer to tests that check the behaviour of the entire application, ie it checks that all the individual components work together as expected\n",
    "- A fully tested application is much easier to maintain and extend further\n",
    "- Pytest is a commonly used Python library for testing"
   ]
  },
  {
   "cell_type": "markdown",
   "id": "5ebf3a36",
   "metadata": {},
   "source": [
    "------------"
   ]
  },
  {
   "cell_type": "markdown",
   "id": "5ca0f80d",
   "metadata": {},
   "source": [
    "------"
   ]
  },
  {
   "cell_type": "markdown",
   "id": "2fcc353b",
   "metadata": {},
   "source": [
    "# Example solutions to exercises"
   ]
  },
  {
   "cell_type": "code",
   "execution_count": null,
   "id": "b5f1294f",
   "metadata": {},
   "outputs": [],
   "source": [
    "# SOLUTION 2\n",
    "\n",
    "for i in range(10):\n",
    "    print(i+1)"
   ]
  },
  {
   "cell_type": "code",
   "execution_count": null,
   "id": "493f0aa3",
   "metadata": {},
   "outputs": [],
   "source": [
    "# SOLUTION 3\n",
    "\n",
    "my_list = []\n",
    "\n",
    "for i in [0,2,4,6,8]:\n",
    "    my_list.append(i)"
   ]
  },
  {
   "cell_type": "code",
   "execution_count": null,
   "id": "6aa43dfd",
   "metadata": {},
   "outputs": [],
   "source": [
    "# SOLUTION 4\n",
    "\n",
    "list1.reverse()\n",
    "print(list1)\n",
    "\n",
    "list1 = list1[::-1]\n",
    "print(list1)"
   ]
  },
  {
   "cell_type": "code",
   "execution_count": null,
   "id": "3ca51a0a",
   "metadata": {},
   "outputs": [],
   "source": [
    "# SOLUTION 5\n",
    "\n",
    "# option 1\n",
    "translation['robert'] = ['junior', 'kid', 'child']\n",
    "# option 2\n",
    "translation.update({'robert': ['junior', 'kid', 'child']})\n"
   ]
  },
  {
   "cell_type": "code",
   "execution_count": null,
   "id": "f24e5890",
   "metadata": {},
   "outputs": [],
   "source": [
    "# SOLUTION 6\n",
    "\n",
    "# empty dictionary\n",
    "res_dict = dict()\n",
    "\n",
    "for i in range(len(keys)):\n",
    "    res_dict.update({keys[i]: values[i]})\n",
    "print(res_dict)\n"
   ]
  },
  {
   "cell_type": "code",
   "execution_count": null,
   "id": "4caef9ee",
   "metadata": {},
   "outputs": [],
   "source": [
    "# SOLUTION 7\n",
    "\n",
    "def double_args(*args):\n",
    "    \"\"\"\n",
    "    This function prints its arguments multiplied by 2\n",
    "    \"\"\"\n",
    "    for arg in args:\n",
    "        print(arg*2)\n"
   ]
  },
  {
   "cell_type": "code",
   "execution_count": null,
   "id": "415b35c4",
   "metadata": {},
   "outputs": [],
   "source": [
    "# SOLUTION 8\n",
    "\n",
    "def clean_list_a(my_list):\n",
    "    cleaned_list = []\n",
    "    for i in my_list:\n",
    "        if type(i) == int:\n",
    "            cleaned_list.append(i)\n",
    "    return cleaned_list\n",
    "clean_list_a(my_list)\n",
    "\n",
    "\n",
    "def clean_list_b(my_list):\n",
    "    return [i for i in my_list if type(i) == int]\n",
    "clean_list_b(my_list)\n",
    "\n"
   ]
  },
  {
   "cell_type": "code",
   "execution_count": null,
   "id": "ac336408",
   "metadata": {},
   "outputs": [],
   "source": [
    "# SOLUTION 9\n",
    "\n",
    "def clean_dict_a(my_dict):\n",
    "    for key, lst in my_dict.items():\n",
    "        my_dict[key] = [i for i in lst if i != None]\n",
    "    return my_dict\n",
    "\n",
    "clean_dict_a(my_dict1)\n",
    "\n",
    "def clean_dict_b(my_dict):\n",
    "    for key in my_dict.keys():\n",
    "        my_dict[key] = [i for i in my_dict[key] if i != None]\n",
    "    return my_dict\n",
    "\n",
    "clean_dict_b(my_dict1)"
   ]
  }
 ],
 "metadata": {
  "kernelspec": {
   "display_name": "Python 3 (ipykernel)",
   "language": "python",
   "name": "python3"
  },
  "language_info": {
   "codemirror_mode": {
    "name": "ipython",
    "version": 3
   },
   "file_extension": ".py",
   "mimetype": "text/x-python",
   "name": "python",
   "nbconvert_exporter": "python",
   "pygments_lexer": "ipython3",
   "version": "3.8.10"
  }
 },
 "nbformat": 4,
 "nbformat_minor": 5
}
